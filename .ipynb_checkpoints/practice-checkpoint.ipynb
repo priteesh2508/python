{
 "cells": [
  {
   "cell_type": "code",
   "execution_count": 3,
   "metadata": {
    "collapsed": false
   },
   "outputs": [
    {
     "name": "stdout",
     "output_type": "stream",
     "text": [
      "7\n"
     ]
    }
   ],
   "source": [
    "print('7')"
   ]
  },
  {
   "cell_type": "code",
   "execution_count": 4,
   "metadata": {
    "collapsed": false,
    "scrolled": false
   },
   "outputs": [
    {
     "ename": "SyntaxError",
     "evalue": "invalid syntax (<ipython-input-4-ec7b3f1ac251>, line 2)",
     "output_type": "error",
     "traceback": [
      "\u001b[0;36m  File \u001b[0;32m\"<ipython-input-4-ec7b3f1ac251>\"\u001b[0;36m, line \u001b[0;32m2\u001b[0m\n\u001b[0;31m    print(\"4\"+(str)x)\u001b[0m\n\u001b[0m                   ^\u001b[0m\n\u001b[0;31mSyntaxError\u001b[0m\u001b[0;31m:\u001b[0m invalid syntax\n"
     ]
    }
   ],
   "source": [
    "x = 3+5\n",
    "print('4'+str(x))"
   ]
  },
  {
   "cell_type": "code",
   "execution_count": 28,
   "metadata": {
    "collapsed": false
   },
   "outputs": [
    {
     "name": "stdout",
     "output_type": "stream",
     "text": [
      "1\n",
      "2\n",
      "3\n",
      "abc\n",
      "u\n",
      "p\n",
      "r\n",
      "a\n",
      "t\n",
      "s\n"
     ]
    }
   ],
   "source": [
    "x = \"pratsy\"\n",
    "a =[1,2,3,'abc','u']\n",
    "for i in a:\n",
    "    print(i)\n",
    "for i in range(0,5):\n",
    "    print(x[i])"
   ]
  },
  {
   "cell_type": "code",
   "execution_count": 44,
   "metadata": {
    "collapsed": false
   },
   "outputs": [
    {
     "name": "stdout",
     "output_type": "stream",
     "text": [
      "abcd\n",
      "abce\n",
      "dcba\n"
     ]
    }
   ],
   "source": [
    "x='abcd'\n",
    "print(x)\n",
    "y = x[0:3]+'e'\n",
    "print(y)\n",
    "z = x[-1::-1]\n",
    "print(z)"
   ]
  },
  {
   "cell_type": "code",
   "execution_count": 51,
   "metadata": {
    "collapsed": false
   },
   "outputs": [
    {
     "name": "stdout",
     "output_type": "stream",
     "text": [
      "{'ajb': 1, 'abc': 2, 'ljksnjklnas': 1, 'kljasndjklna': 1, 'd': 2, 'nljkskdnflkjf': 1, 'jksnfkjnsfa': 1, 'nsdnfl': 1, 'lkknsdfls': 1}\n"
     ]
    }
   ],
   "source": [
    "x='ajb abc ljksnjklnas kljasndjklna  abc d d nljkskdnflkjf jksnfkjnsfa nsdnfl lkknsdfls'\n",
    "y=x.split()\n",
    "count={}\n",
    "for i in y:\n",
    "    if i in count:\n",
    "        count[i]+=1\n",
    "    else:\n",
    "        count[i]=1\n",
    "print(count)"
   ]
  },
  {
   "cell_type": "code",
   "execution_count": 52,
   "metadata": {
    "collapsed": false
   },
   "outputs": [
    {
     "name": "stdout",
     "output_type": "stream",
     "text": [
      "('skjdf', 'kjbsf', 'jhbdsjks')\n"
     ]
    }
   ],
   "source": [
    "x =('skjdf', 'kjbsf', 'jhbdsjks')\n",
    "print(x)"
   ]
  },
  {
   "cell_type": "code",
   "execution_count": null,
   "metadata": {
    "collapsed": true
   },
   "outputs": [],
   "source": [
    "'''kjbkjsbnjks\n",
    "sdkjfnksjf\n",
    "sdkfn\n",
    "sdkjfnkjsnf\n",
    "skjdnfkjsn\n",
    "'''"
   ]
  },
  {
   "cell_type": "code",
   "execution_count": 639,
   "metadata": {
    "collapsed": false
   },
   "outputs": [],
   "source": [
    "def fib(x):\n",
    "    a,b=0,1\n",
    "    while a<=x:\n",
    "        yield(a)\n",
    "        a,b=b,a+b\n",
    "    while True:\n",
    "        yield(\"Limit Exceeded\")\n",
    "\n",
    "g=fib(10000)\n",
    "    "
   ]
  },
  {
   "cell_type": "code",
   "execution_count": 352,
   "metadata": {
    "collapsed": false
   },
   "outputs": [
    {
     "name": "stdout",
     "output_type": "stream",
     "text": [
      "0 1 1 2 3 5 8 13 21 34 "
     ]
    }
   ],
   "source": [
    "a=0\n",
    "b=1\n",
    "def fib_next():\n",
    "    global a\n",
    "    global b\n",
    "    x=a\n",
    "    a,b=b,a+b\n",
    "    return x\n",
    "\n",
    "for i in range(0,10):\n",
    "    print(str(fib_next()), end=\" \")"
   ]
  },
  {
   "cell_type": "code",
   "execution_count": 416,
   "metadata": {
    "collapsed": false
   },
   "outputs": [],
   "source": [
    "def func():\n",
    "    i=0\n",
    "    while True:\n",
    "        yield(i)\n",
    "        i+=1\n",
    "\n",
    "x=func()"
   ]
  },
  {
   "cell_type": "code",
   "execution_count": 669,
   "metadata": {
    "collapsed": false
   },
   "outputs": [
    {
     "name": "stdout",
     "output_type": "stream",
     "text": [
      "Limit Exceeded\n"
     ]
    }
   ],
   "source": [
    "print(g.__next__())\n"
   ]
  },
  {
   "cell_type": "code",
   "execution_count": 672,
   "metadata": {
    "collapsed": false
   },
   "outputs": [
    {
     "name": "stdout",
     "output_type": "stream",
     "text": [
      "[1, 4, 9, 16, 25, 36, 49, 64, 81, 100]\n"
     ]
    }
   ],
   "source": [
    "def f(x):\n",
    "    l=[]\n",
    "    for i in range(1,x+1):\n",
    "        l.append(i*i)\n",
    "    return l\n",
    "\n",
    "        \n",
    "print(f(10))"
   ]
  },
  {
   "cell_type": "code",
   "execution_count": 679,
   "metadata": {
    "collapsed": false
   },
   "outputs": [
    {
     "name": "stdout",
     "output_type": "stream",
     "text": [
      "[4, 16, 36, 64, 100]\n"
     ]
    }
   ],
   "source": [
    "#List Comprehensions\n",
    "#output iteration condition\n",
    "#time is less\n",
    "\n",
    "l=[i*i for i in range(1,11) if i %2 ==0]\n",
    "print(l)"
   ]
  },
  {
   "cell_type": "code",
   "execution_count": 696,
   "metadata": {
    "collapsed": false
   },
   "outputs": [
    {
     "name": "stdout",
     "output_type": "stream",
     "text": [
      "ndslkasaqwkaaeioou\n",
      "ndslksqwk\n"
     ]
    }
   ],
   "source": [
    "def func(word):\n",
    "    v=[\"a\",\"e\",\"i\",\"o\",\"u\"]\n",
    "    cons=\"\".join([i for i in word if i not in v])\n",
    "    print(cons)\n",
    "\n",
    "    \n",
    "x=input()\n",
    "func(x)"
   ]
  },
  {
   "cell_type": "code",
   "execution_count": null,
   "metadata": {
    "collapsed": true
   },
   "outputs": [],
   "source": [
    "#lambda\n",
    "#map,reduce,filter\n",
    "sum = lambda x,y = x+y\n",
    "\n"
   ]
  },
  {
   "cell_type": "code",
   "execution_count": null,
   "metadata": {
    "collapsed": true
   },
   "outputs": [],
   "source": []
  },
  {
   "cell_type": "code",
   "execution_count": 70,
   "metadata": {
    "collapsed": false
   },
   "outputs": [
    {
     "name": "stdout",
     "output_type": "stream",
     "text": [
      "Name priteesh Salary 123123\n",
      "41\n"
     ]
    }
   ],
   "source": [
    "#classes\n",
    "class Employee :\n",
    "    x=0\n",
    "    def __init__(self,name,salary):\n",
    "        global x\n",
    "        self.name= name\n",
    "        self.salary = salary\n",
    "        x+=1\n",
    "    def displayEmployee(self):\n",
    "        print(\"Name\",self.name,\"Salary\", self.salary)\n",
    "        \n",
    "obj = Employee(\"priteesh\",123123)\n",
    "obj.displayEmployee();\n",
    "print(x);"
   ]
  },
  {
   "cell_type": "code",
   "execution_count": 69,
   "metadata": {
    "collapsed": false
   },
   "outputs": [
    {
     "name": "stdout",
     "output_type": "stream",
     "text": [
      "40\n"
     ]
    }
   ],
   "source": [
    "print(x)"
   ]
  },
  {
   "cell_type": "code",
   "execution_count": 89,
   "metadata": {
    "collapsed": false
   },
   "outputs": [
    {
     "name": "stdout",
     "output_type": "stream",
     "text": [
      "0 : 0 : 0\n",
      "0 : 0 : 50\n",
      "0 : 2 : 30\n",
      "23 : 44 : 20\n",
      "0 : 44 : 20\n"
     ]
    }
   ],
   "source": [
    "class clock :\n",
    "    def __init__(self):\n",
    "        self.hour = 0\n",
    "        self.minutes =0\n",
    "        self.seconds = 0\n",
    "    def timeget(self):\n",
    "        print(self.hour,\":\",self.minutes,\":\",self.seconds)\n",
    "    def timeset(self,hour,minutes,seconds):\n",
    "        self.hour=hour\n",
    "        self.minutes=minutes\n",
    "        self.seconds=seconds                \n",
    "    def iterate(self,seconds):\n",
    "        seconds +=self.seconds\n",
    "        self.seconds = seconds%60\n",
    "        seconds = int(seconds/60)\n",
    "        seconds +=self.minutes;\n",
    "        self.minutes = seconds%60\n",
    "        seconds = int(seconds/60)\n",
    "        seconds +=self.hour\n",
    "        self.hour = seconds%24\n",
    "        \n",
    "cl1 = clock()\n",
    "cl1.timeget()\n",
    "cl1.iterate(50)\n",
    "cl1.timeget()\n",
    "cl1.iterate(100)\n",
    "cl1.timeget()\n",
    "cl1.timeset(23,44,20)\n",
    "cl1.timeget()\n",
    "cl1.iter1(3600)\n",
    "cl1.timeget()"
   ]
  },
  {
   "cell_type": "code",
   "execution_count": null,
   "metadata": {
    "collapsed": false
   },
   "outputs": [],
   "source": []
  },
  {
   "cell_type": "code",
   "execution_count": null,
   "metadata": {
    "collapsed": true
   },
   "outputs": [],
   "source": []
  },
  {
   "cell_type": "code",
   "execution_count": null,
   "metadata": {
    "collapsed": true
   },
   "outputs": [],
   "source": []
  },
  {
   "cell_type": "code",
   "execution_count": null,
   "metadata": {
    "collapsed": true
   },
   "outputs": [],
   "source": []
  },
  {
   "cell_type": "code",
   "execution_count": null,
   "metadata": {
    "collapsed": true
   },
   "outputs": [],
   "source": []
  }
 ],
 "metadata": {
  "kernelspec": {
   "display_name": "Python 3",
   "language": "python",
   "name": "python3"
  },
  "language_info": {
   "codemirror_mode": {
    "name": "ipython",
    "version": 3
   },
   "file_extension": ".py",
   "mimetype": "text/x-python",
   "name": "python",
   "nbconvert_exporter": "python",
   "pygments_lexer": "ipython3",
   "version": "3.6.3"
  }
 },
 "nbformat": 4,
 "nbformat_minor": 2
}
