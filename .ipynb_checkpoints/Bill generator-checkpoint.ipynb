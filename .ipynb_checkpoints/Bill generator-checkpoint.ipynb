{
 "cells": [
  {
   "cell_type": "code",
   "execution_count": 5,
   "metadata": {
    "collapsed": false
   },
   "outputs": [],
   "source": [
    "from xlrd import open_workbook\n",
    "from xlutils.copy import copy\n",
    "\n",
    "rb = open_workbook(\"try.xlsx\")\n",
    "wb = copy(rb)\n",
    "\n",
    "s = wb.get_sheet(0)\n",
    "s.write(10,5,'A1')\n",
    "wb.save('try.xlsx')"
   ]
  },
  {
   "cell_type": "code",
   "execution_count": null,
   "metadata": {
    "collapsed": false
   },
   "outputs": [],
   "source": []
  },
  {
   "cell_type": "code",
   "execution_count": 8,
   "metadata": {
    "collapsed": false
   },
   "outputs": [
    {
     "name": "stdout",
     "output_type": "stream",
     "text": [
      "7.txt\n",
      "./json/7.txt\n",
      "{    \"billto\":\"Priteesh Goyal\",    \"Date\":\"19-12-2017\",    \"bill-no\":\"7\",    \"details\":[        {\"desc\": \"Avital-1l\", \"qty\":\"20\",\"price\":\"20\"},        {\"desc\": \"Avital-250ml\", \"qty\":\"50\", \"price\":\"10\"}    ]}\n",
      "2.txt\n",
      "./json/2.txt\n",
      "{    \"billto\":\"Priteesh Goyal\",    \"Date\":\"19-12-2017\",    \"bill-no\":\"2\",    \"details\":[        {\"desc\": \"Avital-1l\", \"qty\":\"20\",\"price\":\"20\"},        {\"desc\": \"Avital-250ml\", \"qty\":\"50\", \"price\":\"10\"}    ]}\n",
      "3.txt\n",
      "./json/3.txt\n",
      "{    \"billto\":\"Priteesh Goyal\",    \"Date\":\"19-12-2017\",    \"bill-no\":\"3\",    \"details\":[        {\"desc\": \"Avital-1l\", \"qty\":\"20\",\"price\":\"20\"},        {\"desc\": \"Avital-250ml\", \"qty\":\"50\", \"price\":\"10\"}    ]}\n",
      "4.txt\n",
      "./json/4.txt\n",
      "{    \"billto\":\"Priteesh Goyal\",    \"Date\":\"19-12-2017\",    \"bill-no\":\"4\",    \"details\":[        {\"desc\": \"Avital-1l\", \"qty\":\"20\",\"price\":\"20\"},        {\"desc\": \"Avital-250ml\", \"qty\":\"50\", \"price\":\"10\"}    ]}\n",
      "1.txt\n",
      "./json/1.txt\n",
      "{    \"billto\":\"Priteesh Goyal\",    \"Date\":\"19-12-2017\",    \"bill-no\":\"1\",    \"details\":[        {\"desc\": \"Avital-1l\", \"qty\":\"20\",\"price\":\"20\"},        {\"desc\": \"Avital-250ml\", \"qty\":\"50\", \"price\":\"10\"}    ]}\n",
      "6.txt\n",
      "./json/6.txt\n",
      "{    \"billto\":\"Priteesh Goyal\",    \"Date\":\"19-12-2017\",    \"bill-no\":\"6\",    \"details\":[        {\"desc\": \"Avital-1l\", \"qty\":\"20\",\"price\":\"20\"},        {\"desc\": \"Avital-250ml\", \"qty\":\"50\", \"price\":\"10\"}    ]}\n",
      "5.txt\n",
      "./json/5.txt\n",
      "{    \"billto\":\"Priteesh Goyal\",    \"Date\":\"19-12-2017\",    \"bill-no\":\"5\",    \"details\":[        {\"desc\": \"Avital-1l\", \"qty\":\"20\",\"price\":\"20\"},        {\"desc\": \"Avital-250ml\", \"qty\":\"50\", \"price\":\"10\"}    ]}\n"
     ]
    }
   ],
   "source": [
    "from openpyxl import load_workbook\n",
    "import json\n",
    "\n",
    "\n",
    "import os\n",
    "os.path.join('usr','bin','dir')\n",
    "\n",
    "\n",
    "for filename in os.listdir('./json'):\n",
    "    print(filename)\n",
    "    file = os.path.join('./json', filename)\n",
    "    print(file)\n",
    "\n",
    "    f = open(file,\"r\")\n",
    "\n",
    "\n",
    "    js=f.read().replace('\\n', '')\n",
    "    print(js)\n",
    "    ds = json.loads(js)\n",
    "\n",
    "\n",
    "    wb = load_workbook(\"bill.xlsx\")\n",
    "    ws = wb.get_sheet_by_name(\"s1\")\n",
    "    c = ws.cell(row = 10, column = 5)\n",
    "    c.value = ds[\"bill-no\"];\n",
    "    c = ws.cell(row = 10, column = 1)\n",
    "    c.value = ds[\"billto\"];\n",
    "    c = ws.cell(row = 10, column = 6)\n",
    "    c.value = ds[\"Date\"];\n",
    "    #print(ds[\"details\"])\n",
    "    ct=14\n",
    "    for i in ds[\"details\"]:\n",
    "        c = ws.cell(row = ct, column = 1)\n",
    "        c.value = i[\"desc\"];\n",
    "        c = ws.cell(row = ct, column = 3)\n",
    "        c.value = i[\"qty\"];\n",
    "        c = ws.cell(row = ct, column = 5)\n",
    "        c.value = i[\"price\"];\n",
    "        ct+=1;\n",
    "\n",
    "    wb.save(\"./bills/\"+ds[\"bill-no\"]+\".xlsx\")"
   ]
  },
  {
   "cell_type": "code",
   "execution_count": null,
   "metadata": {
    "collapsed": true
   },
   "outputs": [],
   "source": []
  },
  {
   "cell_type": "code",
   "execution_count": 4,
   "metadata": {
    "collapsed": false
   },
   "outputs": [
    {
     "name": "stdout",
     "output_type": "stream",
     "text": [
      "7.txt\n",
      "2.txt\n",
      "3.txt\n",
      "4.txt\n",
      "1.txt\n",
      "6.txt\n",
      "5.txt\n"
     ]
    }
   ],
   "source": [
    "import os\n",
    "os.path.join('usr','bin','dir')\n",
    "\n",
    "\n",
    "for filename in os.listdir('./json'):\n",
    "    print(filename)\n",
    "    "
   ]
  }
 ],
 "metadata": {
  "kernelspec": {
   "display_name": "Python 3",
   "language": "python",
   "name": "python3"
  },
  "language_info": {
   "codemirror_mode": {
    "name": "ipython",
    "version": 3
   },
   "file_extension": ".py",
   "mimetype": "text/x-python",
   "name": "python",
   "nbconvert_exporter": "python",
   "pygments_lexer": "ipython3",
   "version": "3.6.3"
  }
 },
 "nbformat": 4,
 "nbformat_minor": 2
}
